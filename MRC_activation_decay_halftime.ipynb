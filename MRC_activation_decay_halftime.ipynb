{
 "cells": [
  {
   "cell_type": "markdown",
   "metadata": {},
   "source": [
    "# The goal of this program is to get amplitude of MRCs"
   ]
  },
  {
   "cell_type": "code",
   "execution_count": 225,
   "metadata": {},
   "outputs": [],
   "source": [
    "import numpy as np\n",
    "from matplotlib import pyplot as plt\n",
    "from matplotlib import gridspec\n",
    "from matplotlib import rcParams\n",
    "from scipy.optimize import curve_fit\n",
    "\n",
    "import sys\n",
    "fpath = '/Users/LingxinW/Box/Wang/PythonStuff'\n",
    "sys.path.append(fpath)\n",
    "import heka_reader "
   ]
  },
  {
   "cell_type": "code",
   "execution_count": 226,
   "metadata": {},
   "outputs": [
    {
     "name": "stdout",
     "output_type": "stream",
     "text": [
      "C:\\Users\\LingxinW\\Box\\Wang\\Ephys_recording\\ALM_ephys\n"
     ]
    }
   ],
   "source": [
    "cd ~/Box/Wang/Ephys_recording/ALM_ephys"
   ]
  },
  {
   "cell_type": "code",
   "execution_count": 244,
   "metadata": {},
   "outputs": [],
   "source": [
    "myfile = heka_reader.Bundle('190603.dat')"
   ]
  },
  {
   "cell_type": "code",
   "execution_count": 256,
   "metadata": {
    "scrolled": true
   },
   "outputs": [
    {
     "data": {
      "image/png": "[encoded data removed]",
      "text/plain": [
       "<matplotlib.figure.Figure at 0x126de8edcf8>"
      ]
     },
     "metadata": {},
     "output_type": "display_data"
    }
   ],
   "source": [
    "dataC = myfile.data[3,10,4,0]\n",
    "x = np.arange(len(dataC))/5000 # transfer data point to time based on the sampling frequency\n",
    "ax = plt.subplot(111) # control size of the figure\n",
    "ax.plot(x,dataC,color='black',linewidth=0.4)\n",
    "\n",
    "plt.xlabel('Time (s)', fontsize=20)\n",
    "plt.ylabel('MRC (A)', fontsize=20)\n",
    "\n",
    "ax.spines['right'].set_visible(False)\n",
    "ax.spines['top'].set_visible(False)\n",
    "\n",
    "ax.tick_params (labelsize =15) # modify axis fontsize of the x and y tick labels\n",
    "\n",
    "plt.axis ((0,0.5,None,None)) # control the time interval that you want to plot\n",
    "\n",
    "\n",
    "plt.savefig('plot.tiff',bbox_inches=\"tight\") # this bbox_inches=\"tight\" help show the full picture\n",
    "plt.show()"
   ]
  },
  {
   "cell_type": "code",
   "execution_count": 257,
   "metadata": {},
   "outputs": [
    {
     "name": "stdout",
     "output_type": "stream",
     "text": [
      "-9.942670582957616e-11\n"
     ]
    }
   ],
   "source": [
    "x = dataC[750:1250]\n",
    "i = min(x)\n",
    "#i = np.argmin(x)\n",
    "print (i)"
   ]
  },
  {
   "cell_type": "code",
   "execution_count": 258,
   "metadata": {},
   "outputs": [
    {
     "name": "stdout",
     "output_type": "stream",
     "text": [
      "[15]\n"
     ]
    }
   ],
   "source": [
    "\n",
    "x = dataC[750:1250] # to set a region of data point where the min value is located\n",
    "\n",
    "result = np.where(x==np.amin(x)) # np.where to locate the positioin of the min value, here the position is just the data point\n",
    "print (result[0]) # result [0] here is just to show the first element of result output \n"
   ]
  },
  {
   "cell_type": "code",
   "execution_count": 259,
   "metadata": {},
   "outputs": [
    {
     "name": "stdout",
     "output_type": "stream",
     "text": [
      "56\n"
     ]
    }
   ],
   "source": [
    "a = dataC[765:1250]\n",
    "# max_y = a==a[a<0].max()\n",
    "result = np.where(a==a[a<0.51*i].max())[0] # to locate the max value that is nearby the half decay of peak current\n",
    "print (result[0])\n"
   ]
  },
  {
   "cell_type": "code",
   "execution_count": 260,
   "metadata": {},
   "outputs": [
    {
     "ename": "SyntaxError",
     "evalue": "invalid syntax (<ipython-input-260-ee1cd49b1e95>, line 1)",
     "output_type": "error",
     "traceback": [
      "\u001b[1;36m  File \u001b[1;32m\"<ipython-input-260-ee1cd49b1e95>\"\u001b[1;36m, line \u001b[1;32m1\u001b[0m\n\u001b[1;33m    conda install seaborn\u001b[0m\n\u001b[1;37m                ^\u001b[0m\n\u001b[1;31mSyntaxError\u001b[0m\u001b[1;31m:\u001b[0m invalid syntax\n"
     ]
    }
   ],
   "source": [
    "conda install seaborn"
   ]
  },
  {
   "cell_type": "code",
   "execution_count": null,
   "metadata": {},
   "outputs": [],
   "source": []
  }
 ],
 "metadata": {
  "kernelspec": {
   "display_name": "Python 3",
   "language": "python",
   "name": "python3"
  },
  "language_info": {
   "codemirror_mode": {
    "name": "ipython",
    "version": 3
   },
   "file_extension": ".py",
   "mimetype": "text/x-python",
   "name": "python",
   "nbconvert_exporter": "python",
   "pygments_lexer": "ipython3",
   "version": "3.6.4"
  }
 },
 "nbformat": 4,
 "nbformat_minor": 2
}
